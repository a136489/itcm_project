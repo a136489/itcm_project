{
 "cells": [
  {
   "cell_type": "code",
   "execution_count": 1,
   "metadata": {},
   "outputs": [
    {
     "name": "stderr",
     "output_type": "stream",
     "text": [
      "Using TensorFlow backend.\n"
     ]
    }
   ],
   "source": [
    "import numpy as np #匯入numpy模組，NumPy是Python語言的擴充程式庫。支援維度陣列與矩陣運算\n",
    "import pandas as pd "
   ]
  },
  {
   "cell_type": "code",
   "execution_count": 2,
   "metadata": {
    "scrolled": true
   },
   "outputs": [],
   "source": [
    "from keras.datasets import mnist"
   ]
  },
  {
   "cell_type": "code",
   "execution_count": 3,
   "metadata": {},
   "outputs": [],
   "source": [
    "import matplotlib.pyplot as plt"
   ]
  },
  {
   "cell_type": "code",
   "execution_count": 70,
   "metadata": {
    "scrolled": true
   },
   "outputs": [],
   "source": [
    "# Loading dataset\n",
    "(x_train_image, y_train_label), (x_test_image, y_test_label) = mnist.load_data() # (60000, 28, 28), (60000, )"
   ]
  },
  {
   "cell_type": "code",
   "execution_count": 71,
   "metadata": {},
   "outputs": [],
   "source": [
    "x_train_image = x_train_image[:1000]/255\n",
    "x_test_image = x_test_image/255\n",
    "y_train_label = y_train_label[:1000]"
   ]
  },
  {
   "cell_type": "code",
   "execution_count": 6,
   "metadata": {},
   "outputs": [],
   "source": [
    "def plot_image(image):\n",
    "    fig = plt.gcf()\n",
    "    fig.set_size_inches(2, 2)\n",
    "    plt.imshow(image, cmap='binary')\n",
    "    plt.show()"
   ]
  },
  {
   "cell_type": "code",
   "execution_count": 7,
   "metadata": {},
   "outputs": [
    {
     "data": {
      "image/png": "[encoded data removed]",
      "text/plain": [
       "<Figure size 144x144 with 1 Axes>"
      ]
     },
     "metadata": {},
     "output_type": "display_data"
    }
   ],
   "source": [
    "plot_image(x_train_image[0])"
   ]
  },
  {
   "cell_type": "code",
   "execution_count": 73,
   "metadata": {},
   "outputs": [],
   "source": [
    "# Training Phase\n",
    "U, S, V = [], [], [] # init\n",
    "\n",
    "# for each digit from 0~9\n",
    "for i in range(10):\n",
    "    # Stacking all the columns of each image of the digit i: (n_i, 28, 28) -> (n_i, 28*28), where n_i is the #of training digit i \n",
    "    imat = x_train_image[y_train_label==i].reshape((-1, 28*28)).T\n",
    "    # Applying the SVD to matrix representation of digit i\n",
    "    Ui, si, Vi = np.linalg.svd(imat)\n",
    "    # Appending the left singular matrix to U\n",
    "    U.append(Ui)\n",
    "    S.append(si)\n",
    "    V.append(Vi)\n"
   ]
  },
  {
   "cell_type": "code",
   "execution_count": 122,
   "metadata": {},
   "outputs": [],
   "source": [
    "def acc(results):\n",
    "    n = len(results)\n",
    "    return sum(results == y_test_label[:n])/n"
   ]
  },
  {
   "cell_type": "code",
   "execution_count": 150,
   "metadata": {},
   "outputs": [],
   "source": [
    "def confusion_matrix(results):\n",
    "    n = len(results)\n",
    "    cm = np.zeros((10, 10))\n",
    "    for (clas, ans) in zip(results, y_test_label[:n]):\n",
    "        cm[clas][ans] += 1\n",
    "    return cm.astype(int)"
   ]
  },
  {
   "cell_type": "code",
   "execution_count": 208,
   "metadata": {},
   "outputs": [],
   "source": [
    "def cm_fig(results):\n",
    "    plt.matshow(confusion_matrix(results), cmap=\"Reds\")"
   ]
  },
  {
   "cell_type": "code",
   "execution_count": 167,
   "metadata": {},
   "outputs": [],
   "source": [
    "def Uk(k):\n",
    "    return [np.dot(U[i][:k].T, U[i][:k]) for i in range(10)]"
   ]
  },
  {
   "cell_type": "code",
   "execution_count": 89,
   "metadata": {},
   "outputs": [],
   "source": [
    "def classification(img_num, Uk=Uk(10), plot=True):\n",
    "    if plot:\n",
    "        plot_image(x_test_image[img_num])\n",
    "    z = x_test_image[img_num].reshape(-1)\n",
    "    residual = [np.linalg.norm(np.dot( (np.identity(784) - Uk[i]), z )) for i in range(10)]\n",
    "    result = np.argmin(residual)\n",
    "#     print(\"The classify result is: {}\".format(result))\n",
    "    return result\n",
    "\n",
    "# print(\"The correct answer is: {}\".format(y_test_label[img_num]))"
   ]
  },
  {
   "cell_type": "code",
   "execution_count": 92,
   "metadata": {},
   "outputs": [],
   "source": [
    "U15 = Uk(15)\n",
    "allr = [classification(i, Uk=U15, plot=False) for i in range(10000)]"
   ]
  },
  {
   "cell_type": "code",
   "execution_count": 93,
   "metadata": {},
   "outputs": [],
   "source": [
    "U10 = Uk(10)\n",
    "U15 = Uk(15)\n",
    "U20 = Uk(20)"
   ]
  },
  {
   "cell_type": "code",
   "execution_count": 152,
   "metadata": {},
   "outputs": [
    {
     "data": {
      "text/plain": [
       "0.8229"
      ]
     },
     "execution_count": 152,
     "metadata": {},
     "output_type": "execute_result"
    }
   ],
   "source": [
    "acc(allr)"
   ]
  },
  {
   "cell_type": "code",
   "execution_count": 210,
   "metadata": {},
   "outputs": [
    {
     "data": {
      "text/plain": [
       "array([[ 939,    0,   14,   22,    0,   55,   54,    4,   45,   16],\n",
       "       [   0, 1104,   71,    2,   11,    2,    2,   40,    5,    8],\n",
       "       [  11,    4,  848,   37,    4,    9,   68,   32,   45,   11],\n",
       "       [   0,    0,   11,  861,    0,  137,    0,   17,   36,   10],\n",
       "       [   5,    0,   16,    1,  820,   14,   46,   15,   14,  114],\n",
       "       [   9,    4,    4,   40,    1,  549,   21,    2,   20,    2],\n",
       "       [   9,    1,    8,    3,   17,   36,  764,    0,   17,    2],\n",
       "       [   1,    0,   10,   10,    1,    7,    1,  795,    9,   20],\n",
       "       [   2,   22,   47,   21,    7,   51,    2,   29,  738,   15],\n",
       "       [   4,    0,    3,   13,  121,   32,    0,   94,   45,  811]])"
      ]
     },
     "execution_count": 210,
     "metadata": {},
     "output_type": "execute_result"
    }
   ],
   "source": [
    "confusion_matrix(allr)"
   ]
  },
  {
   "cell_type": "code",
   "execution_count": 209,
   "metadata": {},
   "outputs": [
    {
     "data": {
      "image/png": "[encoded data removed]",
      "text/plain": [
       "<Figure size 288x288 with 1 Axes>"
      ]
     },
     "metadata": {},
     "output_type": "display_data"
    }
   ],
   "source": [
    "cm_fig(allr)"
   ]
  },
  {
   "cell_type": "code",
   "execution_count": 237,
   "metadata": {},
   "outputs": [],
   "source": [
    "def classify_n_data(n, k, training_size=\"\"):\n",
    "    rl = []\n",
    "    _Uk = Uk(k)\n",
    "    if training_size==\"l\":\n",
    "        print(\"l\")\n",
    "        _Uk = Ukl(k)\n",
    "    elif training_size==\"ll\":\n",
    "        print(\"ll\")\n",
    "        _Uk = Ukll(k)\n",
    "    for i in range(n):\n",
    "        rl.append(classification(i, Uk=_Uk, plot=False))\n",
    "        if (i/n*100)%10 == 0:\n",
    "            print(round(i/n*100), end=\" \")\n",
    "    print(100)\n",
    "            \n",
    "    return rl"
   ]
  },
  {
   "cell_type": "code",
   "execution_count": 216,
   "metadata": {},
   "outputs": [
    {
     "name": "stdout",
     "output_type": "stream",
     "text": [
      "0 10 20 30 40 50 60 70 80 90 0 10 20 30 40 50 60 70 80 90 0 10 20 30 40 50 60 70 80 90 "
     ]
    }
   ],
   "source": [
    "allr10 = classify_n_data(1000, 10)\n",
    "allr15 = classify_n_data(1000, 15)\n",
    "allr20 = classify_n_data(1000, 20)"
   ]
  },
  {
   "cell_type": "code",
   "execution_count": 229,
   "metadata": {
    "scrolled": true
   },
   "outputs": [
    {
     "name": "stdout",
     "output_type": "stream",
     "text": [
      "0 10 20 30 40 50 60 70 80 90 100\n"
     ]
    }
   ],
   "source": [
    "allr100 = classify_n_data(10000, 10)\n",
    "allr150 = classify_n_data(10000, 15)\n",
    "allr200 = classify_n_data(10000, 20)"
   ]
  },
  {
   "cell_type": "code",
   "execution_count": 230,
   "metadata": {},
   "outputs": [
    {
     "name": "stdout",
     "output_type": "stream",
     "text": [
      "0.721\n",
      "0.773\n",
      "0.813\n",
      "0.764\n",
      "0.8229\n",
      "0.8477\n"
     ]
    }
   ],
   "source": [
    "print(acc(allr10))\n",
    "print(acc(allr15))\n",
    "print(acc(allr20))\n",
    "print(acc(allr100))\n",
    "print(acc(allr150))\n",
    "print(acc(allr200))"
   ]
  },
  {
   "cell_type": "code",
   "execution_count": 231,
   "metadata": {},
   "outputs": [
    {
     "data": {
      "text/plain": [
       "array([[ 943,    0,   12,   23,    0,   48,   46,    3,   32,    8],\n",
       "       [   0, 1105,   40,    2,    4,    2,    3,   20,    3,    6],\n",
       "       [  11,    7,  884,   39,    6,    3,   40,   19,   27,    6],\n",
       "       [   0,    0,    9,  835,    0,   78,    0,    8,   30,   12],\n",
       "       [   4,    0,   14,    1,  852,    6,   36,   10,   14,   94],\n",
       "       [   4,    4,    3,   70,    2,  662,   19,    3,   64,    7],\n",
       "       [  14,    0,    7,    3,   11,   28,  812,    0,   16,    1],\n",
       "       [   1,    0,   19,    7,    1,    7,    1,  818,   16,   24],\n",
       "       [   1,   19,   42,   16,    6,   36,    1,   12,  729,   14],\n",
       "       [   2,    0,    2,   14,  100,   22,    0,  135,   43,  837]])"
      ]
     },
     "execution_count": 231,
     "metadata": {},
     "output_type": "execute_result"
    }
   ],
   "source": [
    "confusion_matrix(allr200)"
   ]
  },
  {
   "cell_type": "code",
   "execution_count": 232,
   "metadata": {},
   "outputs": [
    {
     "data": {
      "image/png": "[encoded data removed]",
      "text/plain": [
       "<Figure size 288x288 with 1 Axes>"
      ]
     },
     "metadata": {},
     "output_type": "display_data"
    }
   ],
   "source": [
    "cm_fig(allr200)"
   ]
  },
  {
   "cell_type": "code",
   "execution_count": 161,
   "metadata": {},
   "outputs": [
    {
     "name": "stdout",
     "output_type": "stream",
     "text": [
      "0.057\n",
      "0.092\n",
      "0.099\n",
      "0.0508\n",
      "0.0819\n",
      "0.088\n"
     ]
    }
   ],
   "source": [
    "print(acc(allr10))\n",
    "print(acc(allr15))\n",
    "print(acc(allr20))\n",
    "print(acc(allr100))\n",
    "print(acc(allr150))\n",
    "print(acc(allr200))"
   ]
  },
  {
   "cell_type": "markdown",
   "metadata": {},
   "source": [
    "## larger training set: 500/5000/10000"
   ]
  },
  {
   "cell_type": "code",
   "execution_count": 264,
   "metadata": {},
   "outputs": [],
   "source": [
    "# larger training set\n",
    "(x_train, y_train), (x_test, y_test) = mnist.load_data()\n",
    "\n",
    "x_train_image_l = x_train[:500]/255\n",
    "x_test_image = x_test/255\n",
    "y_train_label_l = y_train[:500]\n",
    "\n",
    "# Training Phase\n",
    "Ul, Sl, Vl = [], [], [] # init\n",
    "\n",
    "# for each digit from 0~9\n",
    "for i in range(10):\n",
    "    # Stacking all the columns of each image of the digit i: (n_i, 28, 28) -> (n_i, 28*28), where n_i is the #of training digit i \n",
    "    imat = x_train_image_l[y_train_label_l==i].reshape((-1, 28*28)).T\n",
    "    # Applying the SVD to matrix representation of digit i\n",
    "    Ui, si, Vi = np.linalg.svd(imat)\n",
    "    # Appending the left singular matrix to U\n",
    "    Ul.append(Ui)\n",
    "    Sl.append(si)\n",
    "    Vl.append(Vi)\n"
   ]
  },
  {
   "cell_type": "code",
   "execution_count": 103,
   "metadata": {},
   "outputs": [],
   "source": [
    "def Ukl(k):\n",
    "    return [np.dot(Ul[i][:k].T, Ul[i][:k]) for i in range(10)]"
   ]
  },
  {
   "cell_type": "code",
   "execution_count": 280,
   "metadata": {},
   "outputs": [],
   "source": [
    "# allr1l = classify_n_data(1000, 1, 'l')\n",
    "# allr2l = classify_n_data(1000, 2, 'l')\n",
    "# allr3l = classify_n_data(1000, 3, 'l')\n",
    "# allr5l = classify_n_data(1000, 5, 'l')\n",
    "# allr10l = classify_n_data(1000, 10, 'l')\n",
    "# allr15l = classify_n_data(1000, 15, 'l')\n",
    "# allr20l = classify_n_data(1000, 20, 'l')\n",
    "# allr30l = classify_n_data(1000, 30, 'l')\n",
    "# allr40l = classify_n_data(1000, 40, 'l')\n",
    "# allr50l = classify_n_data(1000, 50, 'l')\n",
    "# allr60l = classify_n_data(1000, 60, 'l')\n",
    "# allr70l = classify_n_data(1000, 70, 'l')\n",
    "# allr80l = classify_n_data(1000, 80, 'l')\n",
    "# allr90l = classify_n_data(1000, 90, 'l')\n",
    "# allr100l = classify_n_data(1000, 100, 'l')"
   ]
  },
  {
   "cell_type": "code",
   "execution_count": 279,
   "metadata": {},
   "outputs": [
    {
     "data": {
      "text/plain": [
       "Text(0, 0.5, 'acc')"
      ]
     },
     "execution_count": 279,
     "metadata": {},
     "output_type": "execute_result"
    },
    {
     "data": {
      "image/png": "[encoded data removed]",
      "text/plain": [
       "<Figure size 432x288 with 1 Axes>"
      ]
     },
     "metadata": {},
     "output_type": "display_data"
    }
   ],
   "source": [
    "# training size = 500\n",
    "x = [1, 2, 3, 5, 10, 15, 20, 30, 40, 50, 60, 70, 80, 90, 100]\n",
    "y = [acc(allr1l), acc(allr2l), acc(allr3l), acc(allr5l), acc(allr10l), acc(allr15l), acc(allr20l), acc(allr30l),\n",
    "     acc(allr40l), acc(allr50l), acc(allr60l), acc(allr70l), acc(allr80l), acc(allr90l), acc(allr100l)]\n",
    "plt.scatter(x, y)\n",
    "plt.xlabel(\"k\")\n",
    "plt.ylabel(\"acc\")"
   ]
  },
  {
   "cell_type": "code",
   "execution_count": 293,
   "metadata": {},
   "outputs": [],
   "source": [
    "rrr = [allr1l, allr2l, allr3l, allr5l, allr10l, allr15l, allr20l, allr30l,\n",
    "     allr40l, allr50l, allr60l, allr70l, allr80l, allr90l, allr100l]"
   ]
  },
  {
   "cell_type": "code",
   "execution_count": 312,
   "metadata": {},
   "outputs": [],
   "source": [
    "ii = 0"
   ]
  },
  {
   "cell_type": "code",
   "execution_count": 328,
   "metadata": {},
   "outputs": [
    {
     "ename": "IndexError",
     "evalue": "list index out of range",
     "output_type": "error",
     "traceback": [
      "\u001b[1;31m---------------------------------------------------------------------------\u001b[0m",
      "\u001b[1;31mIndexError\u001b[0m                                Traceback (most recent call last)",
      "\u001b[1;32m<ipython-input-328-9a7593d948df>\u001b[0m in \u001b[0;36m<module>\u001b[1;34m()\u001b[0m\n\u001b[1;32m----> 1\u001b[1;33m \u001b[0mcm_fig\u001b[0m\u001b[1;33m(\u001b[0m\u001b[0mrrr\u001b[0m\u001b[1;33m[\u001b[0m\u001b[0mii\u001b[0m\u001b[1;33m]\u001b[0m\u001b[1;33m)\u001b[0m\u001b[1;33m\u001b[0m\u001b[0m\n\u001b[0m\u001b[0;32m      2\u001b[0m \u001b[0mii\u001b[0m\u001b[1;33m+=\u001b[0m\u001b[1;36m1\u001b[0m\u001b[1;33m\u001b[0m\u001b[0m\n",
      "\u001b[1;31mIndexError\u001b[0m: list index out of range"
     ]
    }
   ],
   "source": [
    "cm_fig(rrr[ii])\n",
    "ii+=1"
   ]
  },
  {
   "cell_type": "code",
   "execution_count": 301,
   "metadata": {},
   "outputs": [
    {
     "data": {
      "image/png": "[encoded data removed]",
      "text/plain": [
       "<Figure size 1080x1080 with 15 Axes>"
      ]
     },
     "metadata": {},
     "output_type": "display_data"
    }
   ],
   "source": [
    "w=10\n",
    "h=10\n",
    "fig=plt.figure(figsize=(15, 15))\n",
    "columns = 5\n",
    "rows = 3\n",
    "for i in range(0, columns*rows):\n",
    "    img = np.random.randint(10, size=(h,w))\n",
    "    fig.add_subplot(rows, columns, i+1)\n",
    "    plt.imshow(confusion_matrix(rrr[i]), cmap=\"Reds\")\n",
    "plt.show()"
   ]
  },
  {
   "cell_type": "code",
   "execution_count": 263,
   "metadata": {},
   "outputs": [
    {
     "name": "stdout",
     "output_type": "stream",
     "text": [
      "0.192\n",
      "0.174\n",
      "0.169\n"
     ]
    }
   ],
   "source": [
    "# training size = 5000\n",
    "print(acc(allr10l))\n",
    "print(acc(allr15l))\n",
    "print(acc(allr20l))\n",
    "# print(acc(allr100))\n",
    "# print(acc(allr150))\n",
    "# print(acc(allr200))"
   ]
  },
  {
   "cell_type": "code",
   "execution_count": 242,
   "metadata": {},
   "outputs": [
    {
     "name": "stdout",
     "output_type": "stream",
     "text": [
      "0.057\n",
      "0.092\n",
      "0.099\n"
     ]
    }
   ],
   "source": [
    "# training size = 10000\n",
    "print(acc(allr10l))\n",
    "print(acc(allr15l))\n",
    "print(acc(allr20l))\n",
    "# print(acc(allr100))\n",
    "# print(acc(allr150))\n",
    "# print(acc(allr200))"
   ]
  },
  {
   "cell_type": "code",
   "execution_count": 258,
   "metadata": {},
   "outputs": [
    {
     "data": {
      "text/plain": [
       "57"
      ]
     },
     "execution_count": 258,
     "metadata": {},
     "output_type": "execute_result"
    }
   ],
   "source": [
    "sum(allr10l == y_test_label[:1000])"
   ]
  },
  {
   "cell_type": "code",
   "execution_count": 250,
   "metadata": {},
   "outputs": [
    {
     "data": {
      "text/plain": [
       "0.099"
      ]
     },
     "execution_count": 250,
     "metadata": {},
     "output_type": "execute_result"
    }
   ],
   "source": [
    "sum(allr10l == y_test_label[:1000])/1000\n",
    "sum(allr15l == y_test_label[:1000])/1000\n",
    "sum(allr20l == y_test_label[:1000])/1000\n",
    "# sum(allr100l == y_test_label[:10000])/10000\n",
    "# sum(allr150l == y_test_label[:10000])/10000\n",
    "# sum(allr200l == y_test_label[:10000])/10000"
   ]
  },
  {
   "cell_type": "code",
   "execution_count": null,
   "metadata": {},
   "outputs": [],
   "source": [
    "# confusion matrix\n",
    "cml = np.zeros((10, 10))\n",
    "for (clas, ans) in zip(allr150l, y_test_label):\n",
    "    cml[clas][ans] += 1"
   ]
  },
  {
   "cell_type": "code",
   "execution_count": null,
   "metadata": {},
   "outputs": [],
   "source": [
    "print(cml)"
   ]
  },
  {
   "cell_type": "markdown",
   "metadata": {},
   "source": [
    "## largest training set: 60000"
   ]
  },
  {
   "cell_type": "code",
   "execution_count": null,
   "metadata": {},
   "outputs": [],
   "source": [
    "# largest training set\n",
    "(x_train, y_train), (x_test, y_test) = mnist.load_data()\n",
    "\n",
    "x_train_image_ll = x_train/255\n",
    "x_test_image = x_test/255\n",
    "y_train_label_ll = y_train\n",
    "\n",
    "# Training Phase\n",
    "Ull, Sll, Vll = [], [], [] # init\n",
    "\n",
    "# for each digit from 0~9\n",
    "for i in range(10):\n",
    "    # Stacking all the columns of each image of the digit i: (n_i, 28, 28) -> (n_i, 28*28), where n_i is the #of training digit i \n",
    "    imat = x_train_image_ll[y_train_label_ll==i].reshape((-1, 28*28)).T\n",
    "    # Applying the SVD to matrix representation of digit i\n",
    "    Ui, si, Vi = np.linalg.svd(imat)\n",
    "    # Appending the left singular matrix to U\n",
    "    Ull.append(Ui)\n",
    "    Sll.append(si)\n",
    "    Vll.append(Vi)\n"
   ]
  },
  {
   "cell_type": "code",
   "execution_count": null,
   "metadata": {},
   "outputs": [],
   "source": [
    "def Ukll(k):\n",
    "    return [np.dot(Ull[i][:k].T, Ull[i][:k]) for i in range(10)]"
   ]
  },
  {
   "cell_type": "code",
   "execution_count": null,
   "metadata": {},
   "outputs": [],
   "source": [
    "U10ll = Ukll(10)\n",
    "U15ll = Ukll(15)\n",
    "U20ll = Ukll(20)"
   ]
  },
  {
   "cell_type": "code",
   "execution_count": null,
   "metadata": {},
   "outputs": [],
   "source": [
    "allr10ll = [classification(i, Uk=U10ll, plot=False) for i in range(1000)]\n",
    "allr15ll = [classification(i, Uk=U15ll, plot=False) for i in range(1000)]\n",
    "allr20ll = [classification(i, Uk=U20ll, plot=False) for i in range(1000)]\n",
    "allr100ll = [classification(i, Uk=U10ll, plot=False) for i in range(10000)]\n",
    "allr150ll = [classification(i, Uk=U15ll, plot=False) for i in range(10000)]\n",
    "allr200ll = [classification(i, Uk=U20ll, plot=False) for i in range(10000)]"
   ]
  },
  {
   "cell_type": "code",
   "execution_count": null,
   "metadata": {},
   "outputs": [],
   "source": [
    "sum(allr10ll == y_test_label[:1000])/1000\n",
    "sum(allr15ll == y_test_label[:1000])/1000\n",
    "sum(allr20ll == y_test_label[:1000])/1000\n",
    "sum(allr100ll == y_test_label[:10000])/10000\n",
    "sum(allr150ll == y_test_label[:10000])/10000\n",
    "sum(allr200ll == y_test_label[:10000])/10000"
   ]
  },
  {
   "cell_type": "code",
   "execution_count": null,
   "metadata": {},
   "outputs": [],
   "source": [
    "# confusion matrix\n",
    "cmll = np.zeros((10, 10))\n",
    "for (clas, ans) in zip(allr150ll, y_test_label):\n",
    "    cmll[clas][ans] += 1"
   ]
  },
  {
   "cell_type": "code",
   "execution_count": null,
   "metadata": {},
   "outputs": [],
   "source": [
    "print(cmll)"
   ]
  },
  {
   "cell_type": "code",
   "execution_count": null,
   "metadata": {},
   "outputs": [],
   "source": []
  },
  {
   "cell_type": "markdown",
   "metadata": {},
   "source": [
    "## appendix"
   ]
  },
  {
   "cell_type": "code",
   "execution_count": 77,
   "metadata": {},
   "outputs": [
    {
     "data": {
      "image/png": "[encoded data removed]",
      "text/plain": [
       "<Figure size 144x144 with 1 Axes>"
      ]
     },
     "metadata": {},
     "output_type": "display_data"
    },
    {
     "data": {
      "image/png": "[encoded data removed]",
      "text/plain": [
       "<Figure size 144x144 with 1 Axes>"
      ]
     },
     "metadata": {},
     "output_type": "display_data"
    },
    {
     "data": {
      "image/png": "[encoded data removed]",
      "text/plain": [
       "<Figure size 144x144 with 1 Axes>"
      ]
     },
     "metadata": {},
     "output_type": "display_data"
    }
   ],
   "source": [
    "# the \"singular image\" of digit i\n",
    "plot_image(U[1][0].reshape(28, 28))\n",
    "plot_image(U[1][1].reshape(28, 28))\n",
    "plot_image(U[1][2].reshape(28, 28))"
   ]
  }
 ],
 "metadata": {
  "kernelspec": {
   "display_name": "Python 3",
   "language": "python",
   "name": "python3"
  },
  "language_info": {
   "codemirror_mode": {
    "name": "ipython",
    "version": 3
   },
   "file_extension": ".py",
   "mimetype": "text/x-python",
   "name": "python",
   "nbconvert_exporter": "python",
   "pygments_lexer": "ipython3",
   "version": "3.7.0"
  }
 },
 "nbformat": 4,
 "nbformat_minor": 2
}
