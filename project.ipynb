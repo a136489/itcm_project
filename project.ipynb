{
 "cells": [
  {
   "cell_type": "code",
   "execution_count": 1,
   "metadata": {},
   "outputs": [
    {
     "name": "stderr",
     "output_type": "stream",
     "text": [
      "Using TensorFlow backend.\n"
     ]
    }
   ],
   "source": [
    "import numpy as np #匯入numpy模組，NumPy是Python語言的擴充程式庫。支援維度陣列與矩陣運算\n",
    "import pandas as pd \n",
    "from keras.utils import np_utils #匯入keras.utils因為後續要將label標籤轉換為One-hotencoding\n",
    "np.random.seed(10) #設定seed可以讓每次需要隨機產生的資料，都有相同的輸出"
   ]
  },
  {
   "cell_type": "code",
   "execution_count": 2,
   "metadata": {
    "scrolled": true
   },
   "outputs": [],
   "source": [
    "from keras.datasets import mnist"
   ]
  },
  {
   "cell_type": "code",
   "execution_count": 3,
   "metadata": {},
   "outputs": [],
   "source": [
    "import matplotlib.pyplot as plt"
   ]
  },
  {
   "cell_type": "code",
   "execution_count": 4,
   "metadata": {
    "scrolled": true
   },
   "outputs": [],
   "source": [
    "# Loading dataset\n",
    "(x_train_image, y_train_label), (x_test_image, y_test_label) = mnist.load_data() # (60000, 28, 28), (60000, )"
   ]
  },
  {
   "cell_type": "code",
   "execution_count": 5,
   "metadata": {},
   "outputs": [],
   "source": [
    "x_train_image = x_train_image[:1000]/256\n",
    "x_test_image = x_test_image/256\n",
    "y_train_label = y_train_label[:1000]"
   ]
  },
  {
   "cell_type": "code",
   "execution_count": 6,
   "metadata": {},
   "outputs": [],
   "source": [
    "def plot_image(image):\n",
    "    fig = plt.gcf()\n",
    "    fig.set_size_inches(2, 2)\n",
    "    plt.imshow(image, cmap='binary')\n",
    "    plt.show()"
   ]
  },
  {
   "cell_type": "code",
   "execution_count": 7,
   "metadata": {},
   "outputs": [
    {
     "data": {
      "image/png": "[encoded data removed]",
      "text/plain": [
       "<Figure size 144x144 with 1 Axes>"
      ]
     },
     "metadata": {},
     "output_type": "display_data"
    }
   ],
   "source": [
    "plot_image(x_train_image[0])"
   ]
  },
  {
   "cell_type": "code",
   "execution_count": 8,
   "metadata": {},
   "outputs": [],
   "source": [
    "U, S, V = [], [], [] # init\n",
    "\n",
    "# for each digit from 0~9\n",
    "for i in range(10):\n",
    "    # Stacking all the columns of each image of the digit i: (n_i, 28, 28) -> (n_i, 28*28), where n_i is the #of training digit i \n",
    "    imat = x_train_image[y_train_label==i].reshape((-1, 28*28)).T\n",
    "    # Applying the SVD to matrix representation of digit i\n",
    "    Ui, si, Vi = np.linalg.svd(imat)\n",
    "    # Appending the left singular matrix to U\n",
    "    U.append(Ui)\n",
    "    S.append(si)\n",
    "    V.append(Vi)\n"
   ]
  },
  {
   "cell_type": "code",
   "execution_count": 9,
   "metadata": {},
   "outputs": [],
   "source": [
    "def classification(img_num, k=15, plot=True):\n",
    "    if plot:\n",
    "        plot_image(x_test_image[img_num])\n",
    "    z = x_test_image[img_num].reshape(-1)\n",
    "    residual = [np.linalg.norm(np.dot( (np.identity(784) - np.dot(U[i][:k].T, U[i][:k])), z )) for i in range(10)]\n",
    "    result = np.argmin(residual)\n",
    "#     print(\"The classify result is: {}\".format(result))\n",
    "    return result\n",
    "\n",
    "# print(\"The correct answer is: {}\".format(y_test_label[img_num]))"
   ]
  },
  {
   "cell_type": "code",
   "execution_count": 10,
   "metadata": {},
   "outputs": [],
   "source": [
    "allr = [classification(i, plot=False) for i in range(10000)]"
   ]
  },
  {
   "cell_type": "code",
   "execution_count": 12,
   "metadata": {},
   "outputs": [
    {
     "data": {
      "text/plain": [
       "0.8229"
      ]
     },
     "execution_count": 12,
     "metadata": {},
     "output_type": "execute_result"
    }
   ],
   "source": [
    "sum(allr == y_test_label)/10000 # accuracy"
   ]
  },
  {
   "cell_type": "markdown",
   "metadata": {},
   "source": [
    "## appendix"
   ]
  },
  {
   "cell_type": "code",
   "execution_count": 272,
   "metadata": {},
   "outputs": [
    {
     "data": {
      "image/png": "[encoded data removed]",
      "text/plain": [
       "<Figure size 144x144 with 1 Axes>"
      ]
     },
     "metadata": {},
     "output_type": "display_data"
    }
   ],
   "source": [
    "# the \"singular image\" of digit i\n",
    "plot_image(U[0].reshape(28, 28))"
   ]
  }
 ],
 "metadata": {
  "kernelspec": {
   "display_name": "Python 3",
   "language": "python",
   "name": "python3"
  },
  "language_info": {
   "codemirror_mode": {
    "name": "ipython",
    "version": 3
   },
   "file_extension": ".py",
   "mimetype": "text/x-python",
   "name": "python",
   "nbconvert_exporter": "python",
   "pygments_lexer": "ipython3",
   "version": "3.7.0"
  }
 },
 "nbformat": 4,
 "nbformat_minor": 2
}
